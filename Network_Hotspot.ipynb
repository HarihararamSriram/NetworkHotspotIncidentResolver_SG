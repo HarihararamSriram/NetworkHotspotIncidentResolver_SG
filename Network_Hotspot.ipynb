{
  "cells": [
    {
      "cell_type": "code",
      "execution_count": 1,
      "metadata": {
        "id": "u_RXFp-PHnuv"
      },
      "outputs": [],
      "source": [
        "import pickle"
      ]
    },
    {
      "cell_type": "code",
      "execution_count": 2,
      "metadata": {
        "id": "I10UrVNgr31I"
      },
      "outputs": [],
      "source": [
        "import numpy as nm\n",
        "import matplotlib.pyplot as mtp"
      ]
    },
    {
      "cell_type": "code",
      "execution_count": 3,
      "metadata": {
        "id": "Nazy9GJ7lq5C"
      },
      "outputs": [
        {
          "name": "stdout",
          "output_type": "stream",
          "text": [
            "[0, 1, 2, 3, 4, 5, 6, 7, 8, 9, 10, 11, 12, 13]\n",
            "[0, 1, 2, 3, 4, 5, 6, 7, 8, 9, 10, 11, 12, 13, 14, 15, 16, 17, 18, 19, 20, 21, 22, 23, 24, 25, 26, 27, 28, 29, 30, 31, 32, 33, 34, 35, 36, 37, 38, 39, 40, 41, 42, 43, 44, 45, 46, 47, 48, 49, 50, 51, 52, 53, 54, 55, 56, 57, 58, 59, 60, 61, 62, 63, 64, 65, 66, 67, 68, 69, 70, 71, 72, 73, 74, 75, 76, 77, 78, 79, 80, 81, 82, 83, 84, 85, 86, 87, 88, 89, 90, 91, 92, 93, 94, 95, 96, 97, 98, 99, 100, 101, 102, 103, 104, 105, 106, 107, 108, 109, 110, 111, 112, 113, 114, 115, 116, 117, 118, 119, 120, 121, 122, 123, 124, 125, 126, 127, 128, 129, 130, 131, 132, 133, 134, 135, 136, 137, 138, 139, 140, 141, 142, 143, 144, 145, 146, 147, 148, 149, 150, 151, 152, 153, 154, 155, 156, 157, 158, 159, 160, 161, 162, 163, 164, 165, 166]\n",
            "[0, 1, 2, 3, 4, 5, 6, 7, 8, 9, 10, 11, 12, 13, 14, 15, 16, 17, 18, 19, 20, 21, 22, 23, 24, 25, 26, 27, 28, 29, 30, 31, 32, 33, 34, 35, 36, 37, 38, 39, 40, 41, 42, 43, 44, 45, 46, 47, 48, 49, 50, 51, 52, 53, 54, 55, 56, 57, 58, 59, 60, 61, 62, 63, 64, 65, 66, 67, 68, 69, 70, 71, 72, 73, 74, 75, 76, 77, 78, 79, 80, 81, 82, 83, 84, 85, 86, 87, 88, 89, 90, 91, 92, 93, 94, 95, 96, 97, 98, 99, 100, 101, 102, 103, 104, 105, 106, 107, 108, 109, 110, 111, 112, 113, 114, 115, 116, 117, 118, 119, 120, 121, 122, 123, 124, 125, 126, 127, 128, 129, 130, 131, 132, 133, 134, 135, 136, 137, 138, 139, 140, 141, 142, 143, 144, 145, 146, 147, 148, 149, 150, 151, 152, 153, 154, 155, 156, 157, 158, 159, 160, 161, 162, 163, 164, 165, 166, 167, 168, 169, 170, 171, 172, 173, 174, 175, 176, 177, 178, 179, 180, 181, 182, 183, 184, 185, 186, 187, 188, 189, 190, 191, 192, 193, 194, 195, 196, 197, 198, 199, 200, 201, 202, 203, 204, 205, 206, 207, 208, 209, 210, 211, 212, 213, 214, 215, 216, 217, 218, 219, 220, 221, 222, 223, 224, 225, 226, 227, 228, 229, 230, 231, 232, 233, 234, 235, 236, 237, 238, 239, 240, 241, 242, 243, 244, 245, 246, 247, 248, 249, 250, 251, 252, 253, 254, 255, 256, 257, 258, 259, 260, 261, 262, 263, 264, 265, 266, 267, 268, 269, 270, 271, 272, 273, 274, 275, 276, 277, 278, 279, 280, 281, 282, 283, 284, 285, 286, 287, 288, 289, 290, 291, 292, 293, 294, 295, 296, 297, 298, 299, 300, 301, 302, 303, 304, 305, 306, 307, 308, 309, 310, 311, 312, 313, 314, 315, 316, 317, 318, 319, 320, 321, 322, 323, 324, 325, 326, 327, 328, 329, 330, 331, 332, 333, 334, 335, 336, 337, 338, 339, 340, 341, 342, 343, 344, 345, 346, 347, 348, 349, 350, 351, 352, 353, 354, 355, 356, 357, 358]\n"
          ]
        }
      ],
      "source": [
        "import pandas as pd\n",
        "from sklearn import preprocessing\n",
        "obj = preprocessing.LabelEncoder()\n",
        "\n",
        "data = pd.read_csv('./Sample_DS - Sheet1.csv')\n",
        "data = pd.DataFrame(data)\n",
        "encoders = {}\n",
        "\n",
        "for i in data:\n",
        "    obj = preprocessing.LabelEncoder()\n",
        "    data[i]= obj.fit_transform(data[i])\n",
        "    encoders[i] = obj\n",
        "    # print(i)\n",
        "    print(sorted(data[i].unique()))"
      ]
    },
    {
      "cell_type": "code",
      "execution_count": 4,
      "metadata": {
        "id": "-Mw_gtjMNoye"
      },
      "outputs": [],
      "source": [
        "pickle.dump(encoders,open('LabelEncoder.pkl','wb'))"
      ]
    },
    {
      "cell_type": "markdown",
      "metadata": {
        "id": "iABZLSkbq1S-"
      },
      "source": [
        "Decision Tree"
      ]
    },
    {
      "cell_type": "code",
      "execution_count": 5,
      "metadata": {
        "id": "05cOvRGJq364"
      },
      "outputs": [],
      "source": [
        "x= data.iloc[:, [0,1]].values\n",
        "y= data.iloc[:, 2].values\n",
        "from sklearn.model_selection import train_test_split\n",
        "x_train, x_test, y_train, y_test= train_test_split(x, y, test_size= 0.25, random_state=0)\n",
        "\n"
      ]
    },
    {
      "cell_type": "code",
      "execution_count": 6,
      "metadata": {
        "id": "F06P_gVlq-k5"
      },
      "outputs": [],
      "source": [
        "from sklearn.tree import DecisionTreeClassifier\n",
        "classifier= DecisionTreeClassifier(criterion='entropy', random_state=0)\n",
        "classifier.fit(x_train, y_train)\n",
        "\n",
        "y_pred= classifier.predict(x_test)"
      ]
    },
    {
      "cell_type": "code",
      "execution_count": 7,
      "metadata": {
        "colab": {
          "base_uri": "https://localhost:8080/"
        },
        "id": "mHZC3GKargrl",
        "outputId": "c2a58026-6d6f-47d4-eda2-5291e699772a"
      },
      "outputs": [
        {
          "data": {
            "text/plain": [
              "array([[0, 0, 0, ..., 0, 0, 0],\n",
              "       [0, 0, 0, ..., 0, 0, 0],\n",
              "       [0, 0, 0, ..., 0, 0, 0],\n",
              "       ...,\n",
              "       [0, 0, 0, ..., 0, 0, 0],\n",
              "       [0, 0, 0, ..., 0, 0, 0],\n",
              "       [0, 0, 0, ..., 0, 0, 0]], dtype=int64)"
            ]
          },
          "execution_count": 7,
          "metadata": {},
          "output_type": "execute_result"
        }
      ],
      "source": [
        "from sklearn.metrics import confusion_matrix\n",
        "cm= confusion_matrix(y_test, y_pred)\n",
        "cm"
      ]
    },
    {
      "cell_type": "markdown",
      "metadata": {
        "id": "k_EmPu6Tp3Ar"
      },
      "source": []
    },
    {
      "cell_type": "code",
      "execution_count": null,
      "metadata": {
        "id": "pfWQO7Qfrnit"
      },
      "outputs": [],
      "source": [
        "# from matplotlib.colors import ListedColormap\n",
        "# x_set, y_set = x_test, y_test\n",
        "# x1, x2 = nm.meshgrid(nm.arange(start = x_set[:, 0].min() - 1, stop = x_set[:, 0].max() + 1, step  =0.01),\n",
        "# nm.arange(start = x_set[:, 1].min() - 1, stop = x_set[:, 1].max() + 1, step = 0.01))\n",
        "# mtp.contourf(x1, x2, classifier.predict(nm.array([x1.ravel(), x2.ravel()]).T).reshape(x1.shape),\n",
        "# alpha = 0.75, cmap = ListedColormap(('purple','green' )))\n",
        "# mtp.xlim(x1.min(), x1.max())\n",
        "# mtp.ylim(x2.min(), x2.max())\n",
        "# for i, j in enumerate(nm.unique(y_set)):\n",
        "#         mtp.scatter(x_set[y_set == j, 0], x_set[y_set == j, 1],\n",
        "#         c = ListedColormap(('purple', 'green'))(i), label = j)\n",
        "# mtp.title('Decision Tree Algorithm(Test set)')\n",
        "# # mtp.xlabel('Age=')\n",
        "# # mtp.ylabel('Estimated Salary')\n",
        "# mtp.legend()\n",
        "# mtp.show()"
      ]
    },
    {
      "cell_type": "code",
      "execution_count": 8,
      "metadata": {
        "colab": {
          "base_uri": "https://localhost:8080/"
        },
        "id": "6OgZm1yrursD",
        "outputId": "d5d5a45e-c089-4c06-a0f4-d48bc292d98b"
      },
      "outputs": [
        {
          "name": "stdout",
          "output_type": "stream",
          "text": [
            "[[0 0 0 ... 0 0 0]\n",
            " [0 0 0 ... 0 0 0]\n",
            " [0 0 0 ... 0 0 0]\n",
            " ...\n",
            " [0 0 0 ... 0 0 0]\n",
            " [0 0 0 ... 0 0 0]\n",
            " [0 0 0 ... 0 0 0]]\n",
            "              precision    recall  f1-score   support\n",
            "\n",
            "           0       0.00      0.00      0.00       1.0\n",
            "           4       0.00      0.00      0.00       0.0\n",
            "           6       0.00      0.00      0.00       1.0\n",
            "           9       0.00      0.00      0.00       0.0\n",
            "          12       0.00      0.00      0.00       1.0\n",
            "          16       0.00      0.00      0.00       1.0\n",
            "          17       0.00      0.00      0.00       1.0\n",
            "          18       0.00      0.00      0.00       1.0\n",
            "          19       0.00      0.00      0.00       0.0\n",
            "          21       0.00      0.00      0.00       1.0\n",
            "          22       0.00      0.00      0.00       0.0\n",
            "          25       0.00      0.00      0.00       1.0\n",
            "          27       0.00      0.00      0.00       1.0\n",
            "          28       0.00      0.00      0.00       0.0\n",
            "          29       0.00      0.00      0.00       0.0\n",
            "          31       0.00      0.00      0.00       1.0\n",
            "          32       0.00      0.00      0.00       0.0\n",
            "          35       0.00      0.00      0.00       1.0\n",
            "          37       0.00      0.00      0.00       1.0\n",
            "          38       0.00      0.00      0.00       1.0\n",
            "          42       0.00      0.00      0.00       1.0\n",
            "          43       0.00      0.00      0.00       1.0\n",
            "          45       0.00      0.00      0.00       1.0\n",
            "          46       0.00      0.00      0.00       0.0\n",
            "          47       0.00      0.00      0.00       0.0\n",
            "          50       0.00      0.00      0.00       1.0\n",
            "          53       0.00      0.00      0.00       0.0\n",
            "          55       0.00      0.00      0.00       1.0\n",
            "          56       0.00      0.00      0.00       0.0\n",
            "          59       0.00      0.00      0.00       1.0\n",
            "          60       0.00      0.00      0.00       1.0\n",
            "          65       0.00      0.00      0.00       0.0\n",
            "          66       0.00      0.00      0.00       0.0\n",
            "          69       0.00      0.00      0.00       1.0\n",
            "          71       0.00      0.00      0.00       0.0\n",
            "          72       0.00      0.00      0.00       0.0\n",
            "          73       0.00      0.00      0.00       1.0\n",
            "          74       0.00      0.00      0.00       1.0\n",
            "          75       0.00      0.00      0.00       1.0\n",
            "          81       0.00      0.00      0.00       0.0\n",
            "          84       0.00      0.00      0.00       1.0\n",
            "          85       0.00      0.00      0.00       0.0\n",
            "          87       0.00      0.00      0.00       0.0\n",
            "          88       0.00      0.00      0.00       1.0\n",
            "          89       0.00      0.00      0.00       1.0\n",
            "          91       0.00      0.00      0.00       0.0\n",
            "          92       0.00      0.00      0.00       1.0\n",
            "          95       0.00      0.00      0.00       1.0\n",
            "          97       0.00      0.00      0.00       0.0\n",
            "          98       0.00      0.00      0.00       0.0\n",
            "         100       0.00      0.00      0.00       0.0\n",
            "         102       0.00      0.00      0.00       1.0\n",
            "         104       0.00      0.00      0.00       0.0\n",
            "         105       0.00      0.00      0.00       0.0\n",
            "         110       0.00      0.00      0.00       1.0\n",
            "         112       0.00      0.00      0.00       0.0\n",
            "         114       0.00      0.00      0.00       1.0\n",
            "         116       0.00      0.00      0.00       0.0\n",
            "         118       0.00      0.00      0.00       0.0\n",
            "         119       0.00      0.00      0.00       1.0\n",
            "         120       0.00      0.00      0.00       0.0\n",
            "         121       0.00      0.00      0.00       1.0\n",
            "         127       0.00      0.00      0.00       1.0\n",
            "         128       0.00      0.00      0.00       0.0\n",
            "         129       0.00      0.00      0.00       1.0\n",
            "         134       0.00      0.00      0.00       0.0\n",
            "         136       0.00      0.00      0.00       0.0\n",
            "         138       0.00      0.00      0.00       0.0\n",
            "         140       0.00      0.00      0.00       1.0\n",
            "         141       0.00      0.00      0.00       1.0\n",
            "         142       0.00      0.00      0.00       1.0\n",
            "         143       0.00      0.00      0.00       0.0\n",
            "         144       0.00      0.00      0.00       0.0\n",
            "         149       0.00      0.00      0.00       1.0\n",
            "         151       0.00      0.00      0.00       0.0\n",
            "         154       0.00      0.00      0.00       0.0\n",
            "         156       0.00      0.00      0.00       1.0\n",
            "         158       0.00      0.00      0.00       0.0\n",
            "         164       0.00      0.00      0.00       1.0\n",
            "         165       0.00      0.00      0.00       0.0\n",
            "         166       0.00      0.00      0.00       1.0\n",
            "         168       0.00      0.00      0.00       1.0\n",
            "         169       0.00      0.00      0.00       0.0\n",
            "         175       0.00      0.00      0.00       0.0\n",
            "         177       0.00      0.00      0.00       1.0\n",
            "         178       0.00      0.00      0.00       0.0\n",
            "         181       0.00      0.00      0.00       1.0\n",
            "         185       0.00      0.00      0.00       1.0\n",
            "         191       0.00      0.00      0.00       1.0\n",
            "         193       0.00      0.00      0.00       1.0\n",
            "         197       0.00      0.00      0.00       1.0\n",
            "         199       0.00      0.00      0.00       1.0\n",
            "         201       0.00      0.00      0.00       1.0\n",
            "         203       0.00      0.00      0.00       1.0\n",
            "         205       0.00      0.00      0.00       1.0\n",
            "         207       0.00      0.00      0.00       0.0\n",
            "         208       0.00      0.00      0.00       0.0\n",
            "         211       0.00      0.00      0.00       1.0\n",
            "         219       0.00      0.00      0.00       0.0\n",
            "         222       0.00      0.00      0.00       1.0\n",
            "         226       0.00      0.00      0.00       0.0\n",
            "         229       0.00      0.00      0.00       1.0\n",
            "         234       0.00      0.00      0.00       1.0\n",
            "         239       0.00      0.00      0.00       1.0\n",
            "         240       0.00      0.00      0.00       1.0\n",
            "         243       0.00      0.00      0.00       0.0\n",
            "         244       0.00      0.00      0.00       1.0\n",
            "         246       0.00      0.00      0.00       1.0\n",
            "         248       0.00      0.00      0.00       1.0\n",
            "         249       0.00      0.00      0.00       1.0\n",
            "         252       0.00      0.00      0.00       1.0\n",
            "         256       0.00      0.00      0.00       1.0\n",
            "         260       0.00      0.00      0.00       1.0\n",
            "         267       0.00      0.00      0.00       1.0\n",
            "         269       0.00      0.00      0.00       0.0\n",
            "         272       0.00      0.00      0.00       0.0\n",
            "         276       0.00      0.00      0.00       1.0\n",
            "         278       0.00      0.00      0.00       1.0\n",
            "         282       0.00      0.00      0.00       0.0\n",
            "         286       0.00      0.00      0.00       1.0\n",
            "         289       0.00      0.00      0.00       1.0\n",
            "         291       0.00      0.00      0.00       1.0\n",
            "         293       0.00      0.00      0.00       1.0\n",
            "         295       0.00      0.00      0.00       1.0\n",
            "         304       0.00      0.00      0.00       1.0\n",
            "         306       0.00      0.00      0.00       1.0\n",
            "         308       0.00      0.00      0.00       1.0\n",
            "         310       0.00      0.00      0.00       0.0\n",
            "         313       0.00      0.00      0.00       1.0\n",
            "         314       0.00      0.00      0.00       0.0\n",
            "         317       0.00      0.00      0.00       0.0\n",
            "         318       0.00      0.00      0.00       1.0\n",
            "         319       0.00      0.00      0.00       0.0\n",
            "         320       0.00      0.00      0.00       0.0\n",
            "         321       0.00      0.00      0.00       1.0\n",
            "         322       0.00      0.00      0.00       0.0\n",
            "         324       0.00      0.00      0.00       1.0\n",
            "         329       0.00      0.00      0.00       1.0\n",
            "         331       0.00      0.00      0.00       1.0\n",
            "         333       0.00      0.00      0.00       1.0\n",
            "         335       0.00      0.00      0.00       1.0\n",
            "         337       0.00      0.00      0.00       1.0\n",
            "         342       0.00      0.00      0.00       0.0\n",
            "         344       0.00      0.00      0.00       0.0\n",
            "         347       0.00      0.00      0.00       1.0\n",
            "         351       0.00      0.00      0.00       0.0\n",
            "         352       0.00      0.00      0.00       0.0\n",
            "         355       0.00      0.00      0.00       1.0\n",
            "         356       0.00      0.00      0.00       1.0\n",
            "\n",
            "    accuracy                           0.00      90.0\n",
            "   macro avg       0.00      0.00      0.00      90.0\n",
            "weighted avg       0.00      0.00      0.00      90.0\n",
            "\n"
          ]
        },
        {
          "name": "stderr",
          "output_type": "stream",
          "text": [
            "c:\\Users\\haris\\.conda\\envs\\cv\\lib\\site-packages\\sklearn\\metrics\\_classification.py:1469: UndefinedMetricWarning: Precision and F-score are ill-defined and being set to 0.0 in labels with no predicted samples. Use `zero_division` parameter to control this behavior.\n",
            "  _warn_prf(average, modifier, msg_start, len(result))\n",
            "c:\\Users\\haris\\.conda\\envs\\cv\\lib\\site-packages\\sklearn\\metrics\\_classification.py:1469: UndefinedMetricWarning: Recall and F-score are ill-defined and being set to 0.0 in labels with no true samples. Use `zero_division` parameter to control this behavior.\n",
            "  _warn_prf(average, modifier, msg_start, len(result))\n",
            "c:\\Users\\haris\\.conda\\envs\\cv\\lib\\site-packages\\sklearn\\metrics\\_classification.py:1469: UndefinedMetricWarning: Precision and F-score are ill-defined and being set to 0.0 in labels with no predicted samples. Use `zero_division` parameter to control this behavior.\n",
            "  _warn_prf(average, modifier, msg_start, len(result))\n",
            "c:\\Users\\haris\\.conda\\envs\\cv\\lib\\site-packages\\sklearn\\metrics\\_classification.py:1469: UndefinedMetricWarning: Recall and F-score are ill-defined and being set to 0.0 in labels with no true samples. Use `zero_division` parameter to control this behavior.\n",
            "  _warn_prf(average, modifier, msg_start, len(result))\n",
            "c:\\Users\\haris\\.conda\\envs\\cv\\lib\\site-packages\\sklearn\\metrics\\_classification.py:1469: UndefinedMetricWarning: Precision and F-score are ill-defined and being set to 0.0 in labels with no predicted samples. Use `zero_division` parameter to control this behavior.\n",
            "  _warn_prf(average, modifier, msg_start, len(result))\n",
            "c:\\Users\\haris\\.conda\\envs\\cv\\lib\\site-packages\\sklearn\\metrics\\_classification.py:1469: UndefinedMetricWarning: Recall and F-score are ill-defined and being set to 0.0 in labels with no true samples. Use `zero_division` parameter to control this behavior.\n",
            "  _warn_prf(average, modifier, msg_start, len(result))\n"
          ]
        }
      ],
      "source": [
        "from sklearn.metrics import classification_report, confusion_matrix\n",
        "print(confusion_matrix(y_test, y_pred))\n",
        "print(classification_report(y_test, y_pred))"
      ]
    },
    {
      "cell_type": "code",
      "execution_count": 9,
      "metadata": {
        "id": "nupzdJwzroAL"
      },
      "outputs": [],
      "source": [
        "results = pd.DataFrame({'Incident':x_test[:,0],'tYPE':x_test[:,1],'B': y_pred})"
      ]
    },
    {
      "cell_type": "code",
      "execution_count": null,
      "metadata": {
        "colab": {
          "base_uri": "https://localhost:8080/",
          "height": 423
        },
        "id": "xXAm8LzYtP1w",
        "outputId": "a80f2d54-a19a-47d9-a796-eba71c681034"
      },
      "outputs": [
        {
          "data": {
            "text/html": [
              "\n",
              "  <div id=\"df-a8b1128a-3782-4abc-b470-25940b42b235\" class=\"colab-df-container\">\n",
              "    <div>\n",
              "<style scoped>\n",
              "    .dataframe tbody tr th:only-of-type {\n",
              "        vertical-align: middle;\n",
              "    }\n",
              "\n",
              "    .dataframe tbody tr th {\n",
              "        vertical-align: top;\n",
              "    }\n",
              "\n",
              "    .dataframe thead th {\n",
              "        text-align: right;\n",
              "    }\n",
              "</style>\n",
              "<table border=\"1\" class=\"dataframe\">\n",
              "  <thead>\n",
              "    <tr style=\"text-align: right;\">\n",
              "      <th></th>\n",
              "      <th>Incident</th>\n",
              "      <th>tYPE</th>\n",
              "      <th>B</th>\n",
              "    </tr>\n",
              "  </thead>\n",
              "  <tbody>\n",
              "    <tr>\n",
              "      <th>0</th>\n",
              "      <td>2</td>\n",
              "      <td>152</td>\n",
              "      <td>344</td>\n",
              "    </tr>\n",
              "    <tr>\n",
              "      <th>1</th>\n",
              "      <td>6</td>\n",
              "      <td>104</td>\n",
              "      <td>272</td>\n",
              "    </tr>\n",
              "    <tr>\n",
              "      <th>2</th>\n",
              "      <td>12</td>\n",
              "      <td>42</td>\n",
              "      <td>56</td>\n",
              "    </tr>\n",
              "    <tr>\n",
              "      <th>3</th>\n",
              "      <td>4</td>\n",
              "      <td>117</td>\n",
              "      <td>322</td>\n",
              "    </tr>\n",
              "    <tr>\n",
              "      <th>4</th>\n",
              "      <td>12</td>\n",
              "      <td>2</td>\n",
              "      <td>32</td>\n",
              "    </tr>\n",
              "    <tr>\n",
              "      <th>...</th>\n",
              "      <td>...</td>\n",
              "      <td>...</td>\n",
              "      <td>...</td>\n",
              "    </tr>\n",
              "    <tr>\n",
              "      <th>85</th>\n",
              "      <td>1</td>\n",
              "      <td>6</td>\n",
              "      <td>175</td>\n",
              "    </tr>\n",
              "    <tr>\n",
              "      <th>86</th>\n",
              "      <td>3</td>\n",
              "      <td>29</td>\n",
              "      <td>66</td>\n",
              "    </tr>\n",
              "    <tr>\n",
              "      <th>87</th>\n",
              "      <td>5</td>\n",
              "      <td>56</td>\n",
              "      <td>112</td>\n",
              "    </tr>\n",
              "    <tr>\n",
              "      <th>88</th>\n",
              "      <td>12</td>\n",
              "      <td>2</td>\n",
              "      <td>32</td>\n",
              "    </tr>\n",
              "    <tr>\n",
              "      <th>89</th>\n",
              "      <td>10</td>\n",
              "      <td>74</td>\n",
              "      <td>143</td>\n",
              "    </tr>\n",
              "  </tbody>\n",
              "</table>\n",
              "<p>90 rows × 3 columns</p>\n",
              "</div>\n",
              "    <div class=\"colab-df-buttons\">\n",
              "\n",
              "  <div class=\"colab-df-container\">\n",
              "    <button class=\"colab-df-convert\" onclick=\"convertToInteractive('df-a8b1128a-3782-4abc-b470-25940b42b235')\"\n",
              "            title=\"Convert this dataframe to an interactive table.\"\n",
              "            style=\"display:none;\">\n",
              "\n",
              "  <svg xmlns=\"http://www.w3.org/2000/svg\" height=\"24px\" viewBox=\"0 -960 960 960\">\n",
              "    <path d=\"M120-120v-720h720v720H120Zm60-500h600v-160H180v160Zm220 220h160v-160H400v160Zm0 220h160v-160H400v160ZM180-400h160v-160H180v160Zm440 0h160v-160H620v160ZM180-180h160v-160H180v160Zm440 0h160v-160H620v160Z\"/>\n",
              "  </svg>\n",
              "    </button>\n",
              "\n",
              "  <style>\n",
              "    .colab-df-container {\n",
              "      display:flex;\n",
              "      gap: 12px;\n",
              "    }\n",
              "\n",
              "    .colab-df-convert {\n",
              "      background-color: #E8F0FE;\n",
              "      border: none;\n",
              "      border-radius: 50%;\n",
              "      cursor: pointer;\n",
              "      display: none;\n",
              "      fill: #1967D2;\n",
              "      height: 32px;\n",
              "      padding: 0 0 0 0;\n",
              "      width: 32px;\n",
              "    }\n",
              "\n",
              "    .colab-df-convert:hover {\n",
              "      background-color: #E2EBFA;\n",
              "      box-shadow: 0px 1px 2px rgba(60, 64, 67, 0.3), 0px 1px 3px 1px rgba(60, 64, 67, 0.15);\n",
              "      fill: #174EA6;\n",
              "    }\n",
              "\n",
              "    .colab-df-buttons div {\n",
              "      margin-bottom: 4px;\n",
              "    }\n",
              "\n",
              "    [theme=dark] .colab-df-convert {\n",
              "      background-color: #3B4455;\n",
              "      fill: #D2E3FC;\n",
              "    }\n",
              "\n",
              "    [theme=dark] .colab-df-convert:hover {\n",
              "      background-color: #434B5C;\n",
              "      box-shadow: 0px 1px 3px 1px rgba(0, 0, 0, 0.15);\n",
              "      filter: drop-shadow(0px 1px 2px rgba(0, 0, 0, 0.3));\n",
              "      fill: #FFFFFF;\n",
              "    }\n",
              "  </style>\n",
              "\n",
              "    <script>\n",
              "      const buttonEl =\n",
              "        document.querySelector('#df-a8b1128a-3782-4abc-b470-25940b42b235 button.colab-df-convert');\n",
              "      buttonEl.style.display =\n",
              "        google.colab.kernel.accessAllowed ? 'block' : 'none';\n",
              "\n",
              "      async function convertToInteractive(key) {\n",
              "        const element = document.querySelector('#df-a8b1128a-3782-4abc-b470-25940b42b235');\n",
              "        const dataTable =\n",
              "          await google.colab.kernel.invokeFunction('convertToInteractive',\n",
              "                                                    [key], {});\n",
              "        if (!dataTable) return;\n",
              "\n",
              "        const docLinkHtml = 'Like what you see? Visit the ' +\n",
              "          '<a target=\"_blank\" href=https://colab.research.google.com/notebooks/data_table.ipynb>data table notebook</a>'\n",
              "          + ' to learn more about interactive tables.';\n",
              "        element.innerHTML = '';\n",
              "        dataTable['output_type'] = 'display_data';\n",
              "        await google.colab.output.renderOutput(dataTable, element);\n",
              "        const docLink = document.createElement('div');\n",
              "        docLink.innerHTML = docLinkHtml;\n",
              "        element.appendChild(docLink);\n",
              "      }\n",
              "    </script>\n",
              "  </div>\n",
              "\n",
              "\n",
              "<div id=\"df-c03cc9ad-6db0-47f5-929f-e82afdae8c76\">\n",
              "  <button class=\"colab-df-quickchart\" onclick=\"quickchart('df-c03cc9ad-6db0-47f5-929f-e82afdae8c76')\"\n",
              "            title=\"Suggest charts.\"\n",
              "            style=\"display:none;\">\n",
              "\n",
              "<svg xmlns=\"http://www.w3.org/2000/svg\" height=\"24px\"viewBox=\"0 0 24 24\"\n",
              "     width=\"24px\">\n",
              "    <g>\n",
              "        <path d=\"M19 3H5c-1.1 0-2 .9-2 2v14c0 1.1.9 2 2 2h14c1.1 0 2-.9 2-2V5c0-1.1-.9-2-2-2zM9 17H7v-7h2v7zm4 0h-2V7h2v10zm4 0h-2v-4h2v4z\"/>\n",
              "    </g>\n",
              "</svg>\n",
              "  </button>\n",
              "\n",
              "<style>\n",
              "  .colab-df-quickchart {\n",
              "    background-color: #E8F0FE;\n",
              "    border: none;\n",
              "    border-radius: 50%;\n",
              "    cursor: pointer;\n",
              "    display: none;\n",
              "    fill: #1967D2;\n",
              "    height: 32px;\n",
              "    padding: 0 0 0 0;\n",
              "    width: 32px;\n",
              "  }\n",
              "\n",
              "  .colab-df-quickchart:hover {\n",
              "    background-color: #E2EBFA;\n",
              "    box-shadow: 0px 1px 2px rgba(60, 64, 67, 0.3), 0px 1px 3px 1px rgba(60, 64, 67, 0.15);\n",
              "    fill: #174EA6;\n",
              "  }\n",
              "\n",
              "  [theme=dark] .colab-df-quickchart {\n",
              "    background-color: #3B4455;\n",
              "    fill: #D2E3FC;\n",
              "  }\n",
              "\n",
              "  [theme=dark] .colab-df-quickchart:hover {\n",
              "    background-color: #434B5C;\n",
              "    box-shadow: 0px 1px 3px 1px rgba(0, 0, 0, 0.15);\n",
              "    filter: drop-shadow(0px 1px 2px rgba(0, 0, 0, 0.3));\n",
              "    fill: #FFFFFF;\n",
              "  }\n",
              "</style>\n",
              "\n",
              "  <script>\n",
              "    async function quickchart(key) {\n",
              "      const charts = await google.colab.kernel.invokeFunction(\n",
              "          'suggestCharts', [key], {});\n",
              "    }\n",
              "    (() => {\n",
              "      let quickchartButtonEl =\n",
              "        document.querySelector('#df-c03cc9ad-6db0-47f5-929f-e82afdae8c76 button');\n",
              "      quickchartButtonEl.style.display =\n",
              "        google.colab.kernel.accessAllowed ? 'block' : 'none';\n",
              "    })();\n",
              "  </script>\n",
              "</div>\n",
              "    </div>\n",
              "  </div>\n"
            ],
            "text/plain": [
              "    Incident  tYPE    B\n",
              "0          2   152  344\n",
              "1          6   104  272\n",
              "2         12    42   56\n",
              "3          4   117  322\n",
              "4         12     2   32\n",
              "..       ...   ...  ...\n",
              "85         1     6  175\n",
              "86         3    29   66\n",
              "87         5    56  112\n",
              "88        12     2   32\n",
              "89        10    74  143\n",
              "\n",
              "[90 rows x 3 columns]"
            ]
          },
          "execution_count": 61,
          "metadata": {},
          "output_type": "execute_result"
        }
      ],
      "source": [
        "results\n"
      ]
    },
    {
      "cell_type": "code",
      "execution_count": null,
      "metadata": {
        "colab": {
          "base_uri": "https://localhost:8080/"
        },
        "id": "HOHAmrbbtixT",
        "outputId": "605a24c0-7819-4f73-9e5e-7df355e4d795"
      },
      "outputs": [
        {
          "name": "stderr",
          "output_type": "stream",
          "text": [
            "/usr/local/lib/python3.10/dist-packages/sklearn/base.py:432: UserWarning: X has feature names, but DecisionTreeClassifier was fitted without feature names\n",
            "  warnings.warn(\n"
          ]
        },
        {
          "data": {
            "text/plain": [
              "array(['Implement a configuration management process, conduct regular security audits, and follow best practices for access point settings.'],\n",
              "      dtype=object)"
            ]
          },
          "execution_count": 29,
          "metadata": {},
          "output_type": "execute_result"
        }
      ],
      "source": [
        "# query = ['Routing Protocol Flap' ,\t'EIGRP neighbors frequently resetting.']\n",
        "# query[0]= encoders['Type'].transform([query[0]])\n",
        "# query[1]= encoders['Incident'].transform([query[1]])\n",
        "# arr=[query[0],query[1]]\n",
        "\n",
        "# querys = pd.DataFrame({'Incident':query[1]})\n",
        "# querys\n",
        "# data1 = classifier.predict(querys)\n",
        "# data1 = encoders['Resolution'].inverse_transform(data1)\n",
        "# data1"
      ]
    },
    {
      "cell_type": "code",
      "execution_count": 10,
      "metadata": {
        "id": "0JdQvXJyvOul"
      },
      "outputs": [],
      "source": [
        "pickle.dump(classifier, open('hotspot_model.pkl', 'wb'))"
      ]
    },
    {
      "cell_type": "code",
      "execution_count": 11,
      "metadata": {
        "id": "Isfj46KBRUuX"
      },
      "outputs": [],
      "source": [
        "t=pickle.load(open('hotspot_model.pkl', 'rb'))"
      ]
    },
    {
      "cell_type": "code",
      "execution_count": 12,
      "metadata": {
        "colab": {
          "base_uri": "https://localhost:8080/",
          "height": 445
        },
        "id": "ONGOsjKBRgkE",
        "outputId": "d80b999f-e531-4e5a-9091-3080c6139179"
      },
      "outputs": [
        {
          "name": "stderr",
          "output_type": "stream",
          "text": [
            "c:\\Users\\haris\\.conda\\envs\\cv\\lib\\site-packages\\sklearn\\base.py:457: UserWarning: X has feature names, but DecisionTreeClassifier was fitted without feature names\n",
            "  warnings.warn(\n"
          ]
        },
        {
          "data": {
            "text/plain": [
              "array(['Regularly update and patch devices, use intrusion detection systems, and employ IP reputation filtering.'],\n",
              "      dtype=object)"
            ]
          },
          "execution_count": 12,
          "metadata": {},
          "output_type": "execute_result"
        }
      ],
      "source": [
        "query = ['Denial of Service (DoS) Attacks' ,\t\"Botnet Attacks Description: Large networks of compromised devices are used to launch attacks.\"]\n",
        "query[0]= encoders['Type'].transform([query[0]])\n",
        "query[1]= encoders['Incident'].transform([query[1]])\n",
        "arr=[query[0],query[1]]\n",
        "\n",
        "querys = pd.DataFrame({'Type':query[0],'Incident':query[1]})\n",
        "querys\n",
        "data1 = t.predict(querys)\n",
        "data1 = encoders['Resolution'].inverse_transform(data1)\n",
        "data1"
      ]
    }
  ],
  "metadata": {
    "colab": {
      "provenance": []
    },
    "kernelspec": {
      "display_name": "Python 3",
      "name": "python3"
    },
    "language_info": {
      "codemirror_mode": {
        "name": "ipython",
        "version": 3
      },
      "file_extension": ".py",
      "mimetype": "text/x-python",
      "name": "python",
      "nbconvert_exporter": "python",
      "pygments_lexer": "ipython3",
      "version": "3.9.16"
    }
  },
  "nbformat": 4,
  "nbformat_minor": 0
}
